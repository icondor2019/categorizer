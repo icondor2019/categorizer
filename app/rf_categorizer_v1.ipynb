{
 "cells": [
  {
   "cell_type": "code",
   "execution_count": 1,
   "id": "709747aa",
   "metadata": {},
   "outputs": [
    {
     "name": "stderr",
     "output_type": "stream",
     "text": [
      "[nltk_data] Downloading package stopwords to\n",
      "[nltk_data]     C:\\Users\\Dell\\AppData\\Roaming\\nltk_data...\n",
      "[nltk_data]   Package stopwords is already up-to-date!\n",
      "[nltk_data] Downloading package punkt to\n",
      "[nltk_data]     C:\\Users\\Dell\\AppData\\Roaming\\nltk_data...\n",
      "[nltk_data]   Package punkt is already up-to-date!\n",
      "[nltk_data] Downloading package wordnet to\n",
      "[nltk_data]     C:\\Users\\Dell\\AppData\\Roaming\\nltk_data...\n",
      "[nltk_data]   Package wordnet is already up-to-date!\n"
     ]
    },
    {
     "data": {
      "text/plain": [
       "True"
      ]
     },
     "execution_count": 1,
     "metadata": {},
     "output_type": "execute_result"
    }
   ],
   "source": [
    "import matplotlib.pyplot as plt  \n",
    "import re, string, unicodedata                          \n",
    "import numpy as np                                      \n",
    "import pandas as pd                                     \n",
    "import nltk                           \n",
    "\n",
    "from sklearn.feature_extraction.text import CountVectorizer\n",
    "from sklearn.model_selection import train_test_split\n",
    "from sklearn.ensemble import RandomForestClassifier\n",
    "from sklearn.model_selection import cross_val_score\n",
    "from sklearn.metrics import confusion_matrix\n",
    "\n",
    "from nltk.corpus import stopwords                       \n",
    "from nltk.tokenize import word_tokenize, sent_tokenize  \n",
    "from nltk.stem.wordnet import WordNetLemmatizer            \n",
    "\n",
    "nltk.download('stopwords')                           \n",
    "nltk.download('punkt')\n",
    "nltk.download('wordnet')"
   ]
  },
  {
   "cell_type": "code",
   "execution_count": null,
   "id": "622f1ad3",
   "metadata": {},
   "outputs": [],
   "source": [
    "# raw_raw = pd.read_csv('local_files/raw_scraping.csv', encoding='utf-8')\n",
    "# raw_data = raw_raw[['GOAL_CATEGORY_NAME', 'NAME']].copy()\n",
    "# raw_data = raw_data.rename(columns={'GOAL_CATEGORY_NAME': 'category', 'NAME': 'name'})\n",
    "# raw_data.to_csv('files/scraping_rf_v1.csv', index=False, encoding='utf-8')"
   ]
  },
  {
   "cell_type": "code",
   "execution_count": 5,
   "id": "688babaa",
   "metadata": {},
   "outputs": [
    {
     "data": {
      "text/plain": [
       "category\n",
       "Plomería                 773\n",
       "Herramientas             397\n",
       "Electricos               315\n",
       "Ferretería               154\n",
       "Aseo, Baños y Cocinas    117\n",
       "Pinturas                  59\n",
       "Name: count, dtype: int64"
      ]
     },
     "execution_count": 5,
     "metadata": {},
     "output_type": "execute_result"
    }
   ],
   "source": [
    "raw_data = pd.read_csv('files/scraping_rf_v1.csv', encoding='utf-8')\n",
    "raw_data['category'].value_counts()"
   ]
  },
  {
   "cell_type": "markdown",
   "id": "b926cbd8",
   "metadata": {},
   "source": [
    "## Clean the product name"
   ]
  },
  {
   "cell_type": "code",
   "execution_count": null,
   "id": "e411fb8a",
   "metadata": {},
   "outputs": [],
   "source": [
    "stop_words = set(stopwords.words('spanish')).union(set(stopwords.words('english')))\n",
    "lemmatizer = WordNetLemmatizer()\n",
    "\n",
    "def preprocess_text(text):\n",
    "    text = text.lower()\n",
    "    text = re.sub(r'\\d+', '', text)  # Eliminar números\n",
    "    text = re.sub(r'[^\\w\\s]', '', text)  # Eliminar signos de puntuación\n",
    "    \n",
    "    words = re.split(r'\\s+', text) \n",
    "    words = [word for word in words if word not in stop_words and len(word) >= 3]\n",
    "    words = [lemmatizer.lemmatize(word) for word in words]  # Lematizar palabras\n",
    "    return words\n",
    "\n",
    "\n",
    "word_freq_by_cat = {}\n",
    "\n",
    "raw_data['processed_name'] = (raw_data['name'].apply(lambda x: preprocess_text(x))).copy(deep=True)\n",
    "raw_data.head(5)\n",
    "\n",
    "# %%\n",
    "def turn_into_strings(words):\n",
    "    return ' '.join(words)\n",
    "\n",
    "raw_data['clean_name'] = raw_data['processed_name'].apply(lambda x: turn_into_strings(x))\n",
    "# raw_data.head(5)\n",
    "\n",
    "# %%\n",
    "df_co = raw_data[['category', 'clean_name']].copy()"
   ]
  },
  {
   "cell_type": "markdown",
   "id": "6911589b",
   "metadata": {},
   "source": [
    "# Building the model based on CountVectorizer and Random Forest"
   ]
  },
  {
   "cell_type": "code",
   "execution_count": 7,
   "id": "d082ec4a",
   "metadata": {},
   "outputs": [
    {
     "data": {
      "text/plain": [
       "1815"
      ]
     },
     "execution_count": 7,
     "metadata": {},
     "output_type": "execute_result"
    }
   ],
   "source": [
    "bow_vec = CountVectorizer(max_features=2000)                \n",
    "data_features = bow_vec.fit_transform(df_co['clean_name'])\n",
    "\n",
    "data_features = data_features.toarray()\n",
    "data_features.shape\n",
    "\n",
    "# %%\n",
    "all_labels = df_co['category'].copy(deep=True)\n",
    "all_labels = all_labels.tolist()\n",
    "len(all_labels)"
   ]
  },
  {
   "cell_type": "code",
   "execution_count": null,
   "id": "69377da2",
   "metadata": {},
   "outputs": [],
   "source": [
    "# Create a dictionary mapping unique categories to numerical values\n",
    "category_mapping = {category: idx for idx, category in enumerate(set(all_labels))}\n",
    "\n",
    "# Convert categories into numerical variables\n",
    "numerical_labels = [category_mapping[label] for label in all_labels]\n",
    "\n",
    "# Display the mapping and a sample of numerical labels\n",
    "print(category_mapping)\n",
    "print(numerical_labels[:10])"
   ]
  },
  {
   "cell_type": "markdown",
   "id": "9f30ecd3",
   "metadata": {},
   "source": [
    "## Train the model"
   ]
  },
  {
   "cell_type": "code",
   "execution_count": 13,
   "id": "daa992d8",
   "metadata": {},
   "outputs": [
    {
     "name": "stdout",
     "output_type": "stream",
     "text": [
      "RandomForestClassifier(n_estimators=10, n_jobs=4)\n",
      "0.7982605791998058\n"
     ]
    }
   ],
   "source": [
    "X_train, X_test, y_train, y_test = train_test_split(data_features, all_labels, test_size=0.3, random_state=42)\n",
    "\n",
    "forest = RandomForestClassifier(n_estimators=10, n_jobs=4)\n",
    "\n",
    "forest = forest.fit(X_train, y_train)\n",
    "\n",
    "print(forest)\n",
    "\n",
    "print(np.mean(cross_val_score(forest, data_features, all_labels, cv=10)))"
   ]
  },
  {
   "cell_type": "markdown",
   "id": "31a67af3",
   "metadata": {},
   "source": [
    "## Cross validation"
   ]
  },
  {
   "cell_type": "code",
   "execution_count": 14,
   "id": "77cb8aea",
   "metadata": {},
   "outputs": [
    {
     "data": {
      "image/png": "[encoded data removed]",
      "text/plain": [
       "<Figure size 640x480 with 1 Axes>"
      ]
     },
     "metadata": {},
     "output_type": "display_data"
    }
   ],
   "source": [
    "base_ln = [x for x in range(1, 25)]\n",
    "base_ln\n",
    "\n",
    "cv_scores = []\n",
    "for b in base_ln:\n",
    "    clf = RandomForestClassifier(n_estimators = b)\n",
    "    scores = cross_val_score(clf, X_train, y_train, cv = 5, scoring = 'accuracy')\n",
    "    cv_scores.append(scores.mean())\n",
    "\n",
    "\n",
    "error = [1 - x for x in cv_scores]                                 \n",
    "optimal_learners = base_ln[error.index(min(error))]                \n",
    "plt.plot(base_ln, error)                                          \n",
    "xy = (optimal_learners, min(error))\n",
    "plt.annotate('(%s, %s)' % xy, xy = xy, textcoords='data')\n",
    "plt.xlabel(\"Number of base learners\")\n",
    "plt.ylabel(\"Misclassification Error\")\n",
    "plt.show()"
   ]
  },
  {
   "cell_type": "markdown",
   "id": "efbad389",
   "metadata": {},
   "source": [
    "## re-train using the optimal number of learners"
   ]
  },
  {
   "cell_type": "code",
   "execution_count": 16,
   "id": "bed0c8a2",
   "metadata": {},
   "outputs": [
    {
     "data": {
      "text/plain": [
       "0.9376146788990826"
      ]
     },
     "execution_count": 16,
     "metadata": {},
     "output_type": "execute_result"
    }
   ],
   "source": [
    "clf = RandomForestClassifier(n_estimators = optimal_learners)\n",
    "clf.fit(X_train, y_train)\n",
    "clf.score(X_test, y_test)"
   ]
  },
  {
   "cell_type": "code",
   "execution_count": 17,
   "id": "c0f216a4",
   "metadata": {},
   "outputs": [
    {
     "data": {
      "text/plain": [
       "array([[ 29,   0,   0,  13,   0,   0],\n",
       "       [  0,  89,   0,   4,   1,   0],\n",
       "       [  0,   0,  26,   8,   0,   1],\n",
       "       [  0,   1,   1, 125,   0,   1],\n",
       "       [  0,   0,   0,   0,  15,   0],\n",
       "       [  0,   0,   0,   4,   0, 227]])"
      ]
     },
     "execution_count": 17,
     "metadata": {},
     "output_type": "execute_result"
    }
   ],
   "source": [
    "result =  clf.predict(X_test)   \n",
    "conf_mat = confusion_matrix(y_test, result)\n",
    "conf_mat"
   ]
  },
  {
   "cell_type": "markdown",
   "id": "c629d172",
   "metadata": {},
   "source": [
    "## Testing the model"
   ]
  },
  {
   "cell_type": "code",
   "execution_count": 18,
   "id": "8b1eb94a",
   "metadata": {},
   "outputs": [
    {
     "data": {
      "text/plain": [
       "array(['Herramientas', 'Electricos', 'Plomería', 'Ferretería'],\n",
       "      dtype='<U21')"
      ]
     },
     "execution_count": 18,
     "metadata": {},
     "output_type": "execute_result"
    }
   ],
   "source": [
    "test_str = [\"taladro\", 'foco led', 'tubo pvc', 'cinta de embalaje']\n",
    "\n",
    "# Vectorize the new string using the already fitted vectorizer\n",
    "test_features = bow_vec.transform(test_str)\n",
    "\n",
    "# If you need it as an array\n",
    "test_features = test_features.toarray()\n",
    "\n",
    "# Predict the category using the trained model\n",
    "predicted_category = clf.predict(test_features)\n",
    "predicted_category\n",
    "\n"
   ]
  }
 ],
 "metadata": {
  "kernelspec": {
   "display_name": "venv",
   "language": "python",
   "name": "python3"
  },
  "language_info": {
   "codemirror_mode": {
    "name": "ipython",
    "version": 3
   },
   "file_extension": ".py",
   "mimetype": "text/x-python",
   "name": "python",
   "nbconvert_exporter": "python",
   "pygments_lexer": "ipython3",
   "version": "3.13.2"
  }
 },
 "nbformat": 4,
 "nbformat_minor": 5
}
