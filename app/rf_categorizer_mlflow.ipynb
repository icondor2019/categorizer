{
 "cells": [
  {
   "cell_type": "code",
   "execution_count": null,
   "id": "709747aa",
   "metadata": {},
   "outputs": [
    {
     "name": "stderr",
     "output_type": "stream",
     "text": [
      "[nltk_data] Downloading package stopwords to\n",
      "[nltk_data]     C:\\Users\\Dell\\AppData\\Roaming\\nltk_data...\n",
      "[nltk_data]   Package stopwords is already up-to-date!\n",
      "[nltk_data] Downloading package punkt to\n",
      "[nltk_data]     C:\\Users\\Dell\\AppData\\Roaming\\nltk_data...\n",
      "[nltk_data]   Package punkt is already up-to-date!\n",
      "[nltk_data] Downloading package wordnet to\n",
      "[nltk_data]     C:\\Users\\Dell\\AppData\\Roaming\\nltk_data...\n",
      "[nltk_data]   Package wordnet is already up-to-date!\n"
     ]
    },
    {
     "data": {
      "text/plain": [
       "True"
      ]
     },
     "execution_count": 18,
     "metadata": {},
     "output_type": "execute_result"
    }
   ],
   "source": [
    "import re\n",
    "import nltk\n",
    "import mlflow\n",
    "import numpy as np                                     \n",
    "import pandas as pd\n",
    "import matplotlib.pyplot as plt\n",
    "from configuration.settings import settings\n",
    "\n",
    "from sklearn.feature_extraction.text import CountVectorizer\n",
    "from sklearn.model_selection import train_test_split\n",
    "from sklearn.ensemble import RandomForestClassifier\n",
    "from sklearn.model_selection import cross_val_score\n",
    "from sklearn.metrics import classification_report\n",
    "\n",
    "from nltk.corpus import stopwords                       \n",
    "from nltk.stem.wordnet import WordNetLemmatizer       \n",
    "\n",
    "nltk.download('stopwords')                           \n",
    "nltk.download('punkt')\n",
    "nltk.download('wordnet')"
   ]
  },
  {
   "cell_type": "code",
   "execution_count": 3,
   "id": "688babaa",
   "metadata": {},
   "outputs": [
    {
     "data": {
      "text/plain": [
       "category\n",
       "Plomería                 773\n",
       "Herramientas             397\n",
       "Electricos               315\n",
       "Ferretería               154\n",
       "Aseo, Baños y Cocinas    117\n",
       "Pinturas                  59\n",
       "Name: count, dtype: int64"
      ]
     },
     "execution_count": 3,
     "metadata": {},
     "output_type": "execute_result"
    }
   ],
   "source": [
    "raw_data = pd.read_csv('files/scraping_rf_v1.csv', encoding='utf-8')\n",
    "raw_data['category'].value_counts()"
   ]
  },
  {
   "cell_type": "markdown",
   "id": "b926cbd8",
   "metadata": {},
   "source": [
    "## Preprocesing"
   ]
  },
  {
   "cell_type": "code",
   "execution_count": 4,
   "id": "e411fb8a",
   "metadata": {},
   "outputs": [],
   "source": [
    "stop_words = set(stopwords.words('spanish')).union(set(stopwords.words('english')))\n",
    "lemmatizer = WordNetLemmatizer()\n",
    "\n",
    "def preprocess_text(text):\n",
    "    text = text.lower()\n",
    "    text = re.sub(r'\\d+', '', text)  # Eliminar números\n",
    "    text = re.sub(r'[^\\w\\s]', '', text)  # Eliminar signos de puntuación\n",
    "    \n",
    "    words = re.split(r'\\s+', text) \n",
    "    words = [word for word in words if word not in stop_words and len(word) >= 3]\n",
    "    words = [lemmatizer.lemmatize(word) for word in words]  # Lematizar palabras\n",
    "    return words\n",
    "\n",
    "\n",
    "word_freq_by_cat = {}\n",
    "\n",
    "raw_data['processed_name'] = (raw_data['name'].apply(lambda x: preprocess_text(x))).copy(deep=True)\n",
    "raw_data.head(5)\n",
    "\n",
    "# %%\n",
    "def turn_into_strings(words):\n",
    "    return ' '.join(words)\n",
    "\n",
    "raw_data['clean_name'] = raw_data['processed_name'].apply(lambda x: turn_into_strings(x))\n",
    "# raw_data.head(5)\n",
    "\n",
    "# %%\n",
    "df_co = raw_data[['category', 'clean_name']].copy()"
   ]
  },
  {
   "cell_type": "markdown",
   "id": "6911589b",
   "metadata": {},
   "source": [
    "### Building the model based on CountVectorizer and Random Forest"
   ]
  },
  {
   "cell_type": "code",
   "execution_count": 5,
   "id": "d082ec4a",
   "metadata": {},
   "outputs": [
    {
     "data": {
      "text/plain": [
       "1815"
      ]
     },
     "execution_count": 5,
     "metadata": {},
     "output_type": "execute_result"
    }
   ],
   "source": [
    "bow_vec = CountVectorizer(max_features=2000)                \n",
    "data_features = bow_vec.fit_transform(df_co['clean_name'])\n",
    "\n",
    "data_features = data_features.toarray()\n",
    "data_features.shape\n",
    "\n",
    "# %%\n",
    "all_labels = df_co['category'].copy(deep=True)\n",
    "all_labels = all_labels.tolist()\n",
    "len(all_labels)"
   ]
  },
  {
   "cell_type": "code",
   "execution_count": 6,
   "id": "69377da2",
   "metadata": {},
   "outputs": [
    {
     "name": "stdout",
     "output_type": "stream",
     "text": [
      "{'Ferretería': 0, 'Electricos': 1, 'Aseo, Baños y Cocinas': 2, 'Plomería': 3, 'Pinturas': 4, 'Herramientas': 5}\n",
      "[0, 0, 0, 0, 0, 0, 0, 0, 0, 0]\n"
     ]
    }
   ],
   "source": [
    "# Create a dictionary mapping unique categories to numerical values\n",
    "category_mapping = {category: idx for idx, category in enumerate(set(all_labels))}\n",
    "\n",
    "# Convert categories into numerical variables\n",
    "numerical_labels = [category_mapping[label] for label in all_labels]\n",
    "\n",
    "# Display the mapping and a sample of numerical labels\n",
    "print(category_mapping)\n",
    "print(numerical_labels[:10])"
   ]
  },
  {
   "cell_type": "markdown",
   "id": "9f30ecd3",
   "metadata": {},
   "source": [
    "## Train the model"
   ]
  },
  {
   "cell_type": "code",
   "execution_count": 29,
   "id": "daa992d8",
   "metadata": {},
   "outputs": [
    {
     "name": "stdout",
     "output_type": "stream",
     "text": [
      "RandomForestClassifier(n_estimators=10, n_jobs=4)\n",
      "0.7817315281403678\n"
     ]
    }
   ],
   "source": [
    "X_train, X_test, y_train, y_test = train_test_split(data_features, all_labels, test_size=0.3, random_state=42)\n",
    "\n",
    "params = {\n",
    "    'n_estimators': 10,\n",
    "    'n_jobs': 4\n",
    "}\n",
    "\n",
    "forest = RandomForestClassifier(**params)\n",
    "\n",
    "forest = forest.fit(X_train, y_train)\n",
    "\n",
    "print(forest)\n",
    "\n",
    "print(np.mean(cross_val_score(forest, data_features, all_labels, cv=10)))"
   ]
  },
  {
   "cell_type": "code",
   "execution_count": null,
   "id": "4fc9ae0f",
   "metadata": {},
   "outputs": [
    {
     "name": "stderr",
     "output_type": "stream",
     "text": [
      "2025/09/15 18:15:28 INFO mlflow.tracking.fluent: Experiment with name 'RF_Categorizer_Experiment' does not exist. Creating a new experiment.\n"
     ]
    }
   ],
   "source": [
    "# Set the tracking URI to the MLflow server\n",
    "mlflow_uri = settings.MLFLOW_TRACKING_URI\n",
    "mlflow_experiment = 'RF_Categorizer_Experiment'\n",
    "\n",
    "mlflow.set_experiment(experiment_name=mlflow_experiment)\n",
    "mlflow.set_tracking_uri(uri=mlflow_uri)"
   ]
  },
  {
   "cell_type": "markdown",
   "id": "31a67af3",
   "metadata": {},
   "source": [
    "## Cross validation"
   ]
  },
  {
   "cell_type": "code",
   "execution_count": 14,
   "id": "77cb8aea",
   "metadata": {},
   "outputs": [
    {
     "data": {
      "image/png": "[encoded data removed]",
      "text/plain": [
       "<Figure size 640x480 with 1 Axes>"
      ]
     },
     "metadata": {},
     "output_type": "display_data"
    }
   ],
   "source": [
    "base_ln = [x for x in range(1, 25)]\n",
    "base_ln\n",
    "\n",
    "cv_scores = []\n",
    "for b in base_ln:\n",
    "    clf = RandomForestClassifier(n_estimators = b)\n",
    "    scores = cross_val_score(clf, X_train, y_train, cv = 5, scoring = 'accuracy')\n",
    "    cv_scores.append(scores.mean())\n",
    "\n",
    "\n",
    "error = [1 - x for x in cv_scores]                                 \n",
    "optimal_learners = base_ln[error.index(min(error))]                \n",
    "plt.plot(base_ln, error)                                          \n",
    "xy = (optimal_learners, min(error))\n",
    "plt.annotate('(%s, %s)' % xy, xy = xy, textcoords='data')\n",
    "plt.xlabel(\"Number of base learners\")\n",
    "plt.ylabel(\"Misclassification Error\")\n",
    "plt.show()"
   ]
  },
  {
   "cell_type": "markdown",
   "id": "efbad389",
   "metadata": {},
   "source": [
    "## re-train using the optimal number of learners"
   ]
  },
  {
   "cell_type": "code",
   "execution_count": 42,
   "id": "bed0c8a2",
   "metadata": {},
   "outputs": [
    {
     "data": {
      "text/plain": [
       "0.9412844036697248"
      ]
     },
     "execution_count": 42,
     "metadata": {},
     "output_type": "execute_result"
    }
   ],
   "source": [
    "params = {\n",
    "    'n_estimators': optimal_learners,\n",
    "    'n_jobs': 9\n",
    "}\n",
    "\n",
    "clf = RandomForestClassifier(**params)\n",
    "clf.fit(X_train, y_train)\n",
    "clf.score(X_test, y_test)"
   ]
  },
  {
   "cell_type": "code",
   "execution_count": null,
   "id": "f197dd44",
   "metadata": {},
   "outputs": [
    {
     "name": "stdout",
     "output_type": "stream",
     "text": [
      "                       precision    recall  f1-score   support\n",
      "\n",
      "Aseo, Baños y Cocinas       1.00      0.64      0.78        42\n",
      "           Electricos       0.97      0.96      0.96        94\n",
      "           Ferretería       0.97      0.80      0.88        35\n",
      "         Herramientas       0.84      0.98      0.91       128\n",
      "             Pinturas       1.00      1.00      1.00        15\n",
      "             Plomería       0.98      0.98      0.98       231\n",
      "\n",
      "             accuracy                           0.94       545\n",
      "            macro avg       0.96      0.89      0.92       545\n",
      "         weighted avg       0.95      0.94      0.94       545\n",
      "\n"
     ]
    }
   ],
   "source": [
    "y_pred =  clf.predict(X_test)   \n",
    "report = classification_report(y_test, y_pred)\n",
    "print(report)"
   ]
  },
  {
   "cell_type": "code",
   "execution_count": null,
   "id": "f4fd0cce",
   "metadata": {},
   "outputs": [
    {
     "data": {
      "text/plain": [
       "dict_keys(['Aseo, Baños y Cocinas', 'Electricos', 'Ferretería', 'Herramientas', 'Pinturas', 'Plomería', 'accuracy', 'macro avg', 'weighted avg'])"
      ]
     },
     "execution_count": 28,
     "metadata": {},
     "output_type": "execute_result"
    }
   ],
   "source": [
    "report_dict = classification_report(y_test, y_pred, output_dict=True)\n",
    "report_dict.keys()"
   ]
  },
  {
   "cell_type": "markdown",
   "id": "5c4c4feb",
   "metadata": {},
   "source": [
    "## MLFlow tracking"
   ]
  },
  {
   "cell_type": "code",
   "execution_count": null,
   "id": "1abd851d",
   "metadata": {},
   "outputs": [
    {
     "name": "stderr",
     "output_type": "stream",
     "text": [
      "2025/09/15 18:33:17 WARNING mlflow.models.model: Model logged without a signature and input example. Please set `input_example` parameter when logging the model to auto infer the model signature.\n",
      "Successfully registered model 'RF_Categorizer_Model'.\n",
      "2025/09/15 18:33:17 INFO mlflow.store.model_registry.abstract_store: Waiting up to 300 seconds for model version to finish creation. Model name: RF_Categorizer_Model, version 1\n",
      "Created version '1' of model 'RF_Categorizer_Model'.\n"
     ]
    },
    {
     "name": "stdout",
     "output_type": "stream",
     "text": [
      "🏃 View run unique-ox-710 at: http://127.0.0.1:5000/#/experiments/275612709309522045/runs/edb41191bde941d4b1e1f0eea9c7a698\n",
      "🧪 View experiment at: http://127.0.0.1:5000/#/experiments/275612709309522045\n"
     ]
    }
   ],
   "source": [
    "# ['Aseo, Baños y Cocinas', 'Electricos', 'Ferretería', 'Herramientas', 'Pinturas', 'Plomería', 'accuracy', 'macro avg', 'weighted avg']\n",
    "with mlflow.start_run():\n",
    "    mlflow.log_params(params)\n",
    "    mlflow.log_metrics({\n",
    "        'accuracy': report_dict['accuracy'],\n",
    "        'f1_score_macro': report_dict['macro avg']['f1-score'],\n",
    "        'recall_macro': report_dict['macro avg']['recall'],\n",
    "        'precision_macro': report_dict['macro avg']['precision'],\n",
    "        'recall_abc': report_dict['Aseo, Baños y Cocinas']['recall'],\n",
    "        'recall_electricos': report_dict['Electricos']['recall'],\n",
    "        'recall_ferreteria': report_dict['Ferretería']['recall'],\n",
    "        'recall_herramientas': report_dict['Herramientas']['recall'],\n",
    "        'recall_pinturas': report_dict['Pinturas']['recall'],\n",
    "        'recall_plomeria': report_dict['Plomería']['recall']\n",
    "    })\n",
    "    mlflow.sklearn.log_model(sk_model=clf, \n",
    "                             name=\"Random Forest Classifier CV 5\",\n",
    "                             registered_model_name=\"RF_Categorizer_Model\") # Last line only if you want to register the model"
   ]
  },
  {
   "cell_type": "markdown",
   "id": "c629d172",
   "metadata": {},
   "source": [
    "## Testing the MLFlow Registered model"
   ]
  },
  {
   "cell_type": "code",
   "execution_count": 55,
   "id": "8b1eb94a",
   "metadata": {},
   "outputs": [
    {
     "name": "stderr",
     "output_type": "stream",
     "text": [
      "c:\\Users\\Dell\\Documents\\repositories\\categorizer\\venv\\Lib\\site-packages\\tqdm\\auto.py:21: TqdmWarning: IProgress not found. Please update jupyter and ipywidgets. See https://ipywidgets.readthedocs.io/en/stable/user_install.html\n",
      "  from .autonotebook import tqdm as notebook_tqdm\n",
      "Downloading artifacts: 100%|██████████| 5/5 [00:00<00:00, 61.28it/s]   \n"
     ]
    },
    {
     "data": {
      "text/plain": [
       "array(['Herramientas', 'Electricos', 'Plomería', 'Ferretería'],\n",
       "      dtype='<U21')"
      ]
     },
     "execution_count": 55,
     "metadata": {},
     "output_type": "execute_result"
    }
   ],
   "source": [
    "test_str = [\"taladro\", 'foco led', 'tubo pvc', 'cinta de embalaje']\n",
    "\n",
    "# Vectorize the new string using the already fitted vectorizer\n",
    "test_features = bow_vec.transform(test_str)\n",
    "\n",
    "# If you need it as an array\n",
    "test_features = test_features.toarray()\n",
    "\n",
    "# Predict the category using the trained model\n",
    "# predicted_category = clf.predict(test_features)\n",
    "model_version = 1\n",
    "production_model_name = \"RF_Categorizer_Model\"\n",
    "prod_model_uri = f\"models:/{production_model_name}@champion\"\n",
    "\n",
    "loaded_model = mlflow.sklearn.load_model(prod_model_uri)\n",
    "predicted_category= loaded_model.predict(test_features)\n",
    "predicted_category\n"
   ]
  }
 ],
 "metadata": {
  "kernelspec": {
   "display_name": "venv",
   "language": "python",
   "name": "python3"
  },
  "language_info": {
   "codemirror_mode": {
    "name": "ipython",
    "version": 3
   },
   "file_extension": ".py",
   "mimetype": "text/x-python",
   "name": "python",
   "nbconvert_exporter": "python",
   "pygments_lexer": "ipython3",
   "version": "3.13.2"
  }
 },
 "nbformat": 4,
 "nbformat_minor": 5
}
